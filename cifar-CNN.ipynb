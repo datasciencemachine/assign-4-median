{
 "cells": [
  {
   "cell_type": "markdown",
   "metadata": {},
   "source": [
    "### DOWNLOADING THE DATASET"
   ]
  },
  {
   "cell_type": "code",
   "execution_count": 1,
   "metadata": {
    "colab": {
     "base_uri": "https://localhost:8080/",
     "height": 67
    },
    "colab_type": "code",
    "id": "rwFHGSOOGFrM",
    "outputId": "66b0e8f3-1e7a-42d3-aa10-a2e6b9e7ecc8"
   },
   "outputs": [
    {
     "name": "stderr",
     "output_type": "stream",
     "text": [
      "Using TensorFlow backend.\n"
     ]
    }
   ],
   "source": [
    "from keras.datasets import cifar10\n",
    "(X_train, y_train) , (X_test, y_test) = cifar10.load_data()\n"
   ]
  },
  {
   "cell_type": "code",
   "execution_count": 2,
   "metadata": {
    "colab": {},
    "colab_type": "code",
    "id": "VmIFh1bkGJlc"
   },
   "outputs": [],
   "source": [
    "from keras.preprocessing.image import ImageDataGenerator\n",
    "from keras.utils import to_categorical"
   ]
  },
  {
   "cell_type": "markdown",
   "metadata": {},
   "source": [
    "### PREPROCESSING THE DATA"
   ]
  },
  {
   "cell_type": "code",
   "execution_count": 3,
   "metadata": {
    "colab": {},
    "colab_type": "code",
    "id": "46bBstt7GtiM"
   },
   "outputs": [],
   "source": [
    "y_train_cat=to_categorical(y_train)\n",
    "y_test_cat=to_categorical(y_test)"
   ]
  },
  {
   "cell_type": "code",
   "execution_count": 4,
   "metadata": {
    "colab": {},
    "colab_type": "code",
    "id": "MZ7_-3UNGNKn"
   },
   "outputs": [],
   "source": [
    "train_datagen = ImageDataGenerator(rescale=1./255, zoom_range=0.3, rotation_range=50,\n",
    "                                   width_shift_range=0.2, height_shift_range=0.2, shear_range=0.2, \n",
    "                                   horizontal_flip=True, fill_mode='nearest')\n",
    "\n",
    "val_datagen = ImageDataGenerator(rescale=1./255)\n",
    "\n",
    "train_generator = train_datagen.flow(X_train, y_train_cat, batch_size=30)\n",
    "val_generator = val_datagen.flow(X_test, y_test_cat, batch_size=20)"
   ]
  },
  {
   "cell_type": "code",
   "execution_count": 5,
   "metadata": {
    "colab": {},
    "colab_type": "code",
    "id": "NYEB5Ip7HMVZ"
   },
   "outputs": [],
   "source": [
    "input_shape=X_train[0].shape"
   ]
  },
  {
   "cell_type": "markdown",
   "metadata": {},
   "source": [
    "### DEFINING THE MODEL"
   ]
  },
  {
   "cell_type": "code",
   "execution_count": 6,
   "metadata": {
    "colab": {
     "base_uri": "https://localhost:8080/",
     "height": 710
    },
    "colab_type": "code",
    "id": "xBDiB39GGSWX",
    "outputId": "ea17c01a-2792-4576-f83c-375a5cce60c6"
   },
   "outputs": [
    {
     "name": "stdout",
     "output_type": "stream",
     "text": [
      "Downloading data from https://github.com/fchollet/deep-learning-models/releases/download/v0.1/vgg16_weights_tf_dim_ordering_tf_kernels_notop.h5\n",
      "58892288/58889256 [==============================] - 74s 1us/step\n"
     ]
    },
    {
     "data": {
      "text/html": [
       "<div>\n",
       "<style scoped>\n",
       "    .dataframe tbody tr th:only-of-type {\n",
       "        vertical-align: middle;\n",
       "    }\n",
       "\n",
       "    .dataframe tbody tr th {\n",
       "        vertical-align: top;\n",
       "    }\n",
       "\n",
       "    .dataframe thead th {\n",
       "        text-align: right;\n",
       "    }\n",
       "</style>\n",
       "<table border=\"1\" class=\"dataframe\">\n",
       "  <thead>\n",
       "    <tr style=\"text-align: right;\">\n",
       "      <th></th>\n",
       "      <th>Layer Type</th>\n",
       "      <th>Layer Name</th>\n",
       "      <th>Layer Trainable</th>\n",
       "    </tr>\n",
       "  </thead>\n",
       "  <tbody>\n",
       "    <tr>\n",
       "      <td>0</td>\n",
       "      <td>&lt;keras.engine.input_layer.InputLayer object at 0x000001A351820D88&gt;</td>\n",
       "      <td>input_1</td>\n",
       "      <td>False</td>\n",
       "    </tr>\n",
       "    <tr>\n",
       "      <td>1</td>\n",
       "      <td>&lt;keras.layers.convolutional.Conv2D object at 0x000001A330CDD7C8&gt;</td>\n",
       "      <td>block1_conv1</td>\n",
       "      <td>False</td>\n",
       "    </tr>\n",
       "    <tr>\n",
       "      <td>2</td>\n",
       "      <td>&lt;keras.layers.convolutional.Conv2D object at 0x000001A3484F9708&gt;</td>\n",
       "      <td>block1_conv2</td>\n",
       "      <td>False</td>\n",
       "    </tr>\n",
       "    <tr>\n",
       "      <td>3</td>\n",
       "      <td>&lt;keras.layers.pooling.MaxPooling2D object at 0x000001A351856A88&gt;</td>\n",
       "      <td>block1_pool</td>\n",
       "      <td>False</td>\n",
       "    </tr>\n",
       "    <tr>\n",
       "      <td>4</td>\n",
       "      <td>&lt;keras.layers.convolutional.Conv2D object at 0x000001A3517CDA08&gt;</td>\n",
       "      <td>block2_conv1</td>\n",
       "      <td>False</td>\n",
       "    </tr>\n",
       "    <tr>\n",
       "      <td>5</td>\n",
       "      <td>&lt;keras.layers.convolutional.Conv2D object at 0x000001A3517D7508&gt;</td>\n",
       "      <td>block2_conv2</td>\n",
       "      <td>False</td>\n",
       "    </tr>\n",
       "    <tr>\n",
       "      <td>6</td>\n",
       "      <td>&lt;keras.layers.pooling.MaxPooling2D object at 0x000001A3517D9988&gt;</td>\n",
       "      <td>block2_pool</td>\n",
       "      <td>False</td>\n",
       "    </tr>\n",
       "    <tr>\n",
       "      <td>7</td>\n",
       "      <td>&lt;keras.layers.convolutional.Conv2D object at 0x000001A3517DDC88&gt;</td>\n",
       "      <td>block3_conv1</td>\n",
       "      <td>False</td>\n",
       "    </tr>\n",
       "    <tr>\n",
       "      <td>8</td>\n",
       "      <td>&lt;keras.layers.convolutional.Conv2D object at 0x000001A3517E1E48&gt;</td>\n",
       "      <td>block3_conv2</td>\n",
       "      <td>False</td>\n",
       "    </tr>\n",
       "    <tr>\n",
       "      <td>9</td>\n",
       "      <td>&lt;keras.layers.convolutional.Conv2D object at 0x000001A3517E47C8&gt;</td>\n",
       "      <td>block3_conv3</td>\n",
       "      <td>False</td>\n",
       "    </tr>\n",
       "    <tr>\n",
       "      <td>10</td>\n",
       "      <td>&lt;keras.layers.pooling.MaxPooling2D object at 0x000001A3517EA9C8&gt;</td>\n",
       "      <td>block3_pool</td>\n",
       "      <td>False</td>\n",
       "    </tr>\n",
       "    <tr>\n",
       "      <td>11</td>\n",
       "      <td>&lt;keras.layers.convolutional.Conv2D object at 0x000001A3517EDD48&gt;</td>\n",
       "      <td>block4_conv1</td>\n",
       "      <td>False</td>\n",
       "    </tr>\n",
       "    <tr>\n",
       "      <td>12</td>\n",
       "      <td>&lt;keras.layers.convolutional.Conv2D object at 0x000001A3517F0F08&gt;</td>\n",
       "      <td>block4_conv2</td>\n",
       "      <td>False</td>\n",
       "    </tr>\n",
       "    <tr>\n",
       "      <td>13</td>\n",
       "      <td>&lt;keras.layers.convolutional.Conv2D object at 0x000001A3517F2B88&gt;</td>\n",
       "      <td>block4_conv3</td>\n",
       "      <td>False</td>\n",
       "    </tr>\n",
       "    <tr>\n",
       "      <td>14</td>\n",
       "      <td>&lt;keras.layers.pooling.MaxPooling2D object at 0x000001A3517FAB48&gt;</td>\n",
       "      <td>block4_pool</td>\n",
       "      <td>False</td>\n",
       "    </tr>\n",
       "    <tr>\n",
       "      <td>15</td>\n",
       "      <td>&lt;keras.layers.convolutional.Conv2D object at 0x000001A3517FDE48&gt;</td>\n",
       "      <td>block5_conv1</td>\n",
       "      <td>False</td>\n",
       "    </tr>\n",
       "    <tr>\n",
       "      <td>16</td>\n",
       "      <td>&lt;keras.layers.convolutional.Conv2D object at 0x000001A3517FF1C8&gt;</td>\n",
       "      <td>block5_conv2</td>\n",
       "      <td>False</td>\n",
       "    </tr>\n",
       "    <tr>\n",
       "      <td>17</td>\n",
       "      <td>&lt;keras.layers.convolutional.Conv2D object at 0x000001A3517FFE48&gt;</td>\n",
       "      <td>block5_conv3</td>\n",
       "      <td>False</td>\n",
       "    </tr>\n",
       "    <tr>\n",
       "      <td>18</td>\n",
       "      <td>&lt;keras.layers.pooling.MaxPooling2D object at 0x000001A308528D08&gt;</td>\n",
       "      <td>block5_pool</td>\n",
       "      <td>False</td>\n",
       "    </tr>\n",
       "    <tr>\n",
       "      <td>19</td>\n",
       "      <td>&lt;keras.layers.core.Flatten object at 0x000001A34850FB48&gt;</td>\n",
       "      <td>flatten_1</td>\n",
       "      <td>False</td>\n",
       "    </tr>\n",
       "  </tbody>\n",
       "</table>\n",
       "</div>"
      ],
      "text/plain": [
       "                                                            Layer Type  \\\n",
       "0   <keras.engine.input_layer.InputLayer object at 0x000001A351820D88>   \n",
       "1   <keras.layers.convolutional.Conv2D object at 0x000001A330CDD7C8>     \n",
       "2   <keras.layers.convolutional.Conv2D object at 0x000001A3484F9708>     \n",
       "3   <keras.layers.pooling.MaxPooling2D object at 0x000001A351856A88>     \n",
       "4   <keras.layers.convolutional.Conv2D object at 0x000001A3517CDA08>     \n",
       "5   <keras.layers.convolutional.Conv2D object at 0x000001A3517D7508>     \n",
       "6   <keras.layers.pooling.MaxPooling2D object at 0x000001A3517D9988>     \n",
       "7   <keras.layers.convolutional.Conv2D object at 0x000001A3517DDC88>     \n",
       "8   <keras.layers.convolutional.Conv2D object at 0x000001A3517E1E48>     \n",
       "9   <keras.layers.convolutional.Conv2D object at 0x000001A3517E47C8>     \n",
       "10  <keras.layers.pooling.MaxPooling2D object at 0x000001A3517EA9C8>     \n",
       "11  <keras.layers.convolutional.Conv2D object at 0x000001A3517EDD48>     \n",
       "12  <keras.layers.convolutional.Conv2D object at 0x000001A3517F0F08>     \n",
       "13  <keras.layers.convolutional.Conv2D object at 0x000001A3517F2B88>     \n",
       "14  <keras.layers.pooling.MaxPooling2D object at 0x000001A3517FAB48>     \n",
       "15  <keras.layers.convolutional.Conv2D object at 0x000001A3517FDE48>     \n",
       "16  <keras.layers.convolutional.Conv2D object at 0x000001A3517FF1C8>     \n",
       "17  <keras.layers.convolutional.Conv2D object at 0x000001A3517FFE48>     \n",
       "18  <keras.layers.pooling.MaxPooling2D object at 0x000001A308528D08>     \n",
       "19  <keras.layers.core.Flatten object at 0x000001A34850FB48>             \n",
       "\n",
       "      Layer Name  Layer Trainable  \n",
       "0   input_1       False            \n",
       "1   block1_conv1  False            \n",
       "2   block1_conv2  False            \n",
       "3   block1_pool   False            \n",
       "4   block2_conv1  False            \n",
       "5   block2_conv2  False            \n",
       "6   block2_pool   False            \n",
       "7   block3_conv1  False            \n",
       "8   block3_conv2  False            \n",
       "9   block3_conv3  False            \n",
       "10  block3_pool   False            \n",
       "11  block4_conv1  False            \n",
       "12  block4_conv2  False            \n",
       "13  block4_conv3  False            \n",
       "14  block4_pool   False            \n",
       "15  block5_conv1  False            \n",
       "16  block5_conv2  False            \n",
       "17  block5_conv3  False            \n",
       "18  block5_pool   False            \n",
       "19  flatten_1     False            "
      ]
     },
     "execution_count": 6,
     "metadata": {},
     "output_type": "execute_result"
    }
   ],
   "source": [
    "\n",
    "from keras.applications import vgg16\n",
    "from keras.models import Model\n",
    "import keras\n",
    "\n",
    "vgg = vgg16.VGG16(include_top=False, weights='imagenet', \n",
    "                                     input_shape=input_shape)\n",
    "\n",
    "output = vgg.layers[-1].output\n",
    "output = keras.layers.Flatten()(output)\n",
    "vgg_model = Model(vgg.input, output)\n",
    "\n",
    "vgg_model.trainable = False\n",
    "for layer in vgg_model.layers:\n",
    "    layer.trainable = False\n",
    "    \n",
    "import pandas as pd\n",
    "pd.set_option('max_colwidth', -1)\n",
    "layers = [(layer, layer.name, layer.trainable) for layer in vgg_model.layers]\n",
    "pd.DataFrame(layers, columns=['Layer Type', 'Layer Name', 'Layer Trainable'])    "
   ]
  },
  {
   "cell_type": "markdown",
   "metadata": {},
   "source": [
    "### TRAINING THE MODEL"
   ]
  },
  {
   "cell_type": "code",
   "execution_count": 10,
   "metadata": {
    "colab": {
     "base_uri": "https://localhost:8080/",
     "height": 1000
    },
    "colab_type": "code",
    "id": "Ess1VYAMH7un",
    "outputId": "4983cf28-3b32-436a-8e42-629663bd794f"
   },
   "outputs": [
    {
     "name": "stdout",
     "output_type": "stream",
     "text": [
      "Epoch 1/50\n",
      "100/100 [==============================] - 28s 278ms/step - loss: 0.5211 - accuracy: 0.7821 - val_loss: 0.3701 - val_accuracy: 0.9000\n",
      "Epoch 2/50\n",
      "100/100 [==============================] - 25s 253ms/step - loss: 0.3526 - accuracy: 0.8994 - val_loss: 0.3190 - val_accuracy: 0.9000\n",
      "Epoch 3/50\n",
      "100/100 [==============================] - 27s 265ms/step - loss: 0.3332 - accuracy: 0.9000 - val_loss: 0.3205 - val_accuracy: 0.9000\n",
      "Epoch 4/50\n",
      "100/100 [==============================] - 27s 271ms/step - loss: 0.3294 - accuracy: 0.9000 - val_loss: 0.3085 - val_accuracy: 0.9000\n",
      "Epoch 5/50\n",
      "100/100 [==============================] - 27s 273ms/step - loss: 0.3265 - accuracy: 0.8999 - val_loss: 0.3006 - val_accuracy: 0.9000\n",
      "Epoch 6/50\n",
      "100/100 [==============================] - 27s 270ms/step - loss: 0.3226 - accuracy: 0.9000 - val_loss: 0.3077 - val_accuracy: 0.9000\n",
      "Epoch 7/50\n",
      "100/100 [==============================] - 26s 258ms/step - loss: 0.3198 - accuracy: 0.9000 - val_loss: 0.3021 - val_accuracy: 0.9000\n",
      "Epoch 8/50\n",
      "100/100 [==============================] - 18s 183ms/step - loss: 0.3144 - accuracy: 0.8999 - val_loss: 0.2947 - val_accuracy: 0.9000\n",
      "Epoch 9/50\n",
      "100/100 [==============================] - 21s 206ms/step - loss: 0.3123 - accuracy: 0.9001 - val_loss: 0.2856 - val_accuracy: 0.9000\n",
      "Epoch 10/50\n",
      "100/100 [==============================] - 21s 209ms/step - loss: 0.3110 - accuracy: 0.9000 - val_loss: 0.2815 - val_accuracy: 0.9000\n",
      "Epoch 11/50\n",
      "100/100 [==============================] - 22s 220ms/step - loss: 0.3078 - accuracy: 0.8998 - val_loss: 0.3016 - val_accuracy: 0.9000\n",
      "Epoch 12/50\n",
      "100/100 [==============================] - 25s 247ms/step - loss: 0.3060 - accuracy: 0.9000 - val_loss: 0.2872 - val_accuracy: 0.9000\n",
      "Epoch 13/50\n",
      "100/100 [==============================] - 26s 256ms/step - loss: 0.3026 - accuracy: 0.9004 - val_loss: 0.2955 - val_accuracy: 0.9001\n",
      "Epoch 14/50\n",
      "100/100 [==============================] - 26s 255ms/step - loss: 0.3018 - accuracy: 0.9000 - val_loss: 0.2970 - val_accuracy: 0.9001\n",
      "Epoch 15/50\n",
      "100/100 [==============================] - 26s 257ms/step - loss: 0.2992 - accuracy: 0.9001 - val_loss: 0.2846 - val_accuracy: 0.9002\n",
      "Epoch 16/50\n",
      "100/100 [==============================] - 25s 255ms/step - loss: 0.2996 - accuracy: 0.8994 - val_loss: 0.2743 - val_accuracy: 0.9002\n",
      "Epoch 17/50\n",
      "100/100 [==============================] - 25s 250ms/step - loss: 0.2967 - accuracy: 0.9006 - val_loss: 0.2645 - val_accuracy: 0.9005\n",
      "Epoch 18/50\n",
      "100/100 [==============================] - 26s 255ms/step - loss: 0.2933 - accuracy: 0.9006 - val_loss: 0.2960 - val_accuracy: 0.9000\n",
      "Epoch 19/50\n",
      "100/100 [==============================] - 25s 254ms/step - loss: 0.2939 - accuracy: 0.9005 - val_loss: 0.2678 - val_accuracy: 0.9003\n",
      "Epoch 20/50\n",
      "100/100 [==============================] - 25s 252ms/step - loss: 0.2927 - accuracy: 0.9007 - val_loss: 0.2443 - val_accuracy: 0.9010\n",
      "Epoch 21/50\n",
      "100/100 [==============================] - 26s 255ms/step - loss: 0.2908 - accuracy: 0.9000 - val_loss: 0.2685 - val_accuracy: 0.9018\n",
      "Epoch 22/50\n",
      "100/100 [==============================] - 27s 272ms/step - loss: 0.2916 - accuracy: 0.9004 - val_loss: 0.2922 - val_accuracy: 0.9016\n",
      "Epoch 23/50\n",
      "100/100 [==============================] - 26s 258ms/step - loss: 0.2887 - accuracy: 0.9002 - val_loss: 0.2557 - val_accuracy: 0.9018\n",
      "Epoch 24/50\n",
      "100/100 [==============================] - 26s 256ms/step - loss: 0.2902 - accuracy: 0.9004 - val_loss: 0.2714 - val_accuracy: 0.9023\n",
      "Epoch 25/50\n",
      "100/100 [==============================] - 25s 251ms/step - loss: 0.2859 - accuracy: 0.9008 - val_loss: 0.2644 - val_accuracy: 0.9023\n",
      "Epoch 26/50\n",
      "100/100 [==============================] - 25s 255ms/step - loss: 0.2871 - accuracy: 0.9011 - val_loss: 0.2767 - val_accuracy: 0.9025\n",
      "Epoch 27/50\n",
      "100/100 [==============================] - 26s 257ms/step - loss: 0.2877 - accuracy: 0.9006 - val_loss: 0.2932 - val_accuracy: 0.9010\n",
      "Epoch 28/50\n",
      "100/100 [==============================] - 25s 253ms/step - loss: 0.2829 - accuracy: 0.9016 - val_loss: 0.2714 - val_accuracy: 0.9015\n",
      "Epoch 29/50\n",
      "100/100 [==============================] - 25s 254ms/step - loss: 0.2839 - accuracy: 0.9008 - val_loss: 0.2718 - val_accuracy: 0.9016\n",
      "Epoch 30/50\n",
      "100/100 [==============================] - 26s 259ms/step - loss: 0.2841 - accuracy: 0.9010 - val_loss: 0.2484 - val_accuracy: 0.9016\n",
      "Epoch 31/50\n",
      "100/100 [==============================] - 25s 253ms/step - loss: 0.2828 - accuracy: 0.9013 - val_loss: 0.2484 - val_accuracy: 0.9021\n",
      "Epoch 32/50\n",
      "100/100 [==============================] - 25s 255ms/step - loss: 0.2843 - accuracy: 0.9002 - val_loss: 0.2782 - val_accuracy: 0.9008\n",
      "Epoch 33/50\n",
      "100/100 [==============================] - 26s 258ms/step - loss: 0.2823 - accuracy: 0.9011 - val_loss: 0.2849 - val_accuracy: 0.9028\n",
      "Epoch 34/50\n",
      "100/100 [==============================] - 25s 252ms/step - loss: 0.2802 - accuracy: 0.9013 - val_loss: 0.2374 - val_accuracy: 0.9028\n",
      "Epoch 35/50\n",
      "100/100 [==============================] - 25s 253ms/step - loss: 0.2792 - accuracy: 0.9014 - val_loss: 0.2559 - val_accuracy: 0.9025\n",
      "Epoch 36/50\n",
      "100/100 [==============================] - 26s 258ms/step - loss: 0.2784 - accuracy: 0.9012 - val_loss: 0.2822 - val_accuracy: 0.9042\n",
      "Epoch 37/50\n",
      "100/100 [==============================] - 26s 257ms/step - loss: 0.2761 - accuracy: 0.9017 - val_loss: 0.2397 - val_accuracy: 0.9038\n",
      "Epoch 38/50\n",
      "100/100 [==============================] - 26s 256ms/step - loss: 0.2782 - accuracy: 0.9017 - val_loss: 0.2847 - val_accuracy: 0.9043\n",
      "Epoch 39/50\n",
      "100/100 [==============================] - 25s 254ms/step - loss: 0.2800 - accuracy: 0.9013 - val_loss: 0.2373 - val_accuracy: 0.9025\n",
      "Epoch 40/50\n",
      "100/100 [==============================] - 26s 258ms/step - loss: 0.2773 - accuracy: 0.9018 - val_loss: 0.2489 - val_accuracy: 0.9029\n",
      "Epoch 41/50\n",
      "100/100 [==============================] - 26s 259ms/step - loss: 0.2739 - accuracy: 0.9020 - val_loss: 0.2412 - val_accuracy: 0.9046\n",
      "Epoch 42/50\n",
      "100/100 [==============================] - 27s 265ms/step - loss: 0.2752 - accuracy: 0.9010 - val_loss: 0.2541 - val_accuracy: 0.9045\n",
      "Epoch 43/50\n",
      "100/100 [==============================] - 25s 253ms/step - loss: 0.2718 - accuracy: 0.9024 - val_loss: 0.2987 - val_accuracy: 0.9012\n",
      "Epoch 44/50\n",
      "100/100 [==============================] - 27s 267ms/step - loss: 0.2723 - accuracy: 0.9011 - val_loss: 0.2668 - val_accuracy: 0.9014\n",
      "Epoch 45/50\n",
      "100/100 [==============================] - 28s 275ms/step - loss: 0.2756 - accuracy: 0.9019 - val_loss: 0.2431 - val_accuracy: 0.9038\n",
      "Epoch 46/50\n",
      "100/100 [==============================] - 26s 259ms/step - loss: 0.2737 - accuracy: 0.9016 - val_loss: 0.2687 - val_accuracy: 0.9047\n",
      "Epoch 47/50\n",
      "100/100 [==============================] - 26s 258ms/step - loss: 0.2732 - accuracy: 0.9033 - val_loss: 0.2288 - val_accuracy: 0.9051\n",
      "Epoch 48/50\n",
      "100/100 [==============================] - 26s 256ms/step - loss: 0.2751 - accuracy: 0.9011 - val_loss: 0.2484 - val_accuracy: 0.9043\n",
      "Epoch 49/50\n",
      "100/100 [==============================] - 26s 258ms/step - loss: 0.2729 - accuracy: 0.9033 - val_loss: 0.2557 - val_accuracy: 0.9039\n",
      "Epoch 50/50\n",
      "100/100 [==============================] - 26s 256ms/step - loss: 0.2727 - accuracy: 0.9023 - val_loss: 0.2570 - val_accuracy: 0.9042\n"
     ]
    }
   ],
   "source": [
    "from keras.layers import Conv2D, MaxPooling2D, Flatten, Dense, Dropout, InputLayer\n",
    "from keras.models import Sequential\n",
    "from keras import optimizers\n",
    "\n",
    "model = Sequential()\n",
    "model.add(vgg_model)\n",
    "model.add(Dense(512, activation='relu', input_dim=input_shape))\n",
    "model.add(Dropout(0.3))\n",
    "model.add(Dense(512, activation='relu'))\n",
    "model.add(Dropout(0.3))\n",
    "model.add(Dense(10, activation='sigmoid'))\n",
    "\n",
    "model.compile(loss='binary_crossentropy',\n",
    "              optimizer=optimizers.RMSprop(lr=2e-5),\n",
    "              metrics=['accuracy'])\n",
    "              \n",
    "history = model.fit_generator(train_generator, steps_per_epoch=100, epochs=5\n",
    "                              \n",
    "                              \n",
    "                              0,\n",
    "                              validation_data=val_generator, validation_steps=50, \n",
    "                              verbose=1)              "
   ]
  },
  {
   "cell_type": "code",
   "execution_count": 23,
   "metadata": {
    "colab": {},
    "colab_type": "code",
    "id": "FfFKhPVKIEK6"
   },
   "outputs": [],
   "source": [
    "model.save(\"cifar_model.h5\")"
   ]
  }
 ],
 "metadata": {
  "colab": {
   "name": "Untitled3.ipynb",
   "provenance": []
  },
  "kernelspec": {
   "display_name": "Python 3",
   "language": "python",
   "name": "python3"
  },
  "language_info": {
   "codemirror_mode": {
    "name": "ipython",
    "version": 3
   },
   "file_extension": ".py",
   "mimetype": "text/x-python",
   "name": "python",
   "nbconvert_exporter": "python",
   "pygments_lexer": "ipython3",
   "version": "3.7.4"
  }
 },
 "nbformat": 4,
 "nbformat_minor": 1
}
